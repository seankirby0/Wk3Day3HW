{
 "cells": [
  {
   "cell_type": "code",
   "execution_count": null,
   "id": "4e511999",
   "metadata": {},
   "outputs": [],
   "source": [
    "# Given an integer n, return a string array answer (1-indexed) where:\n",
    "# answer[i] == \"FizzBuzz\" if i is divisible by 3 and 5.\n",
    "# answer[i] == \"Fizz\" if i is divisible by 3.\n",
    "# answer[i] == \"Buzz\" if i is divisible by 5.\n",
    "# answer[i] == i if non of the above conditions are true.\n",
    "# ex1:\n",
    "# Input: n = 3\n",
    "# Output: [\"1\",\"2\",\"Fizz\"]\n",
    "# ex2:\n",
    "# Input: n = 5\n",
    "# Output: [\"1\",\"2\",\"Fizz\",\"4\",\"Buzz\"]\n",
    "# ex3:\n",
    "# Input: n = 15\n",
    "# Output: [\"1\",\"2\",\"Fizz\",\"4\",\"Buzz\",\"Fizz\",\"7\",\"8\",\"Fizz\",\"Buzz\",\"11\",\"Fizz\",\"13\",\"14\",\"FizzBuzz\"]"
   ]
  },
  {
   "cell_type": "code",
   "execution_count": 1,
   "id": "a613d84e",
   "metadata": {},
   "outputs": [
    {
     "data": {
      "text/plain": [
       "['1',\n",
       " '2',\n",
       " 'fizz',\n",
       " '4',\n",
       " 'Buzz',\n",
       " 'fizz',\n",
       " '7',\n",
       " '8',\n",
       " 'fizz',\n",
       " 'Buzz',\n",
       " '11',\n",
       " 'fizz',\n",
       " '13',\n",
       " '14',\n",
       " 'FizzBuzz']"
      ]
     },
     "execution_count": 1,
     "metadata": {},
     "output_type": "execute_result"
    }
   ],
   "source": [
    "def fb (n):\n",
    "    lst = []\n",
    "    for i in range(1, n+1):\n",
    "        #print(i, end =\" \")\n",
    "        #print()\n",
    "        if i % 3 ==0 and i % 5 ==0:\n",
    "                lst.append(\"FizzBuzz\")\n",
    "        elif i % 3 ==0:\n",
    "                lst.append(\"fizz\")\n",
    "        elif i % 5 ==0:\n",
    "                lst.append(\"Buzz\")\n",
    "        else:\n",
    "                lst.append(str((i)))\n",
    "    return lst\n",
    "fb(15)\n"
   ]
  },
  {
   "cell_type": "code",
   "execution_count": 2,
   "id": "aba6f687",
   "metadata": {
    "scrolled": true
   },
   "outputs": [],
   "source": [
    "#Shoha solution\n",
    "\n",
    "def fizzBuzz(n):\n",
    "        return [\"FizzBuzz\" if (x%3==0 and x%5==0) else \"Fizz\" if x%3==0 else \"Buzz\" if x%5==0 else str(x) for x in range(1,n+1)]"
   ]
  },
  {
   "cell_type": "code",
   "execution_count": 4,
   "id": "c5a859e4",
   "metadata": {},
   "outputs": [
    {
     "data": {
      "text/plain": [
       "['1',\n",
       " '2',\n",
       " 'Fizz',\n",
       " '4',\n",
       " 'Buzz',\n",
       " 'Fizz',\n",
       " '7',\n",
       " '8',\n",
       " 'Fizz',\n",
       " 'Buzz',\n",
       " '11',\n",
       " 'Fizz',\n",
       " '13',\n",
       " '14',\n",
       " 'FizzBuzz']"
      ]
     },
     "execution_count": 4,
     "metadata": {},
     "output_type": "execute_result"
    }
   ],
   "source": [
    "fizzBuzz(15)"
   ]
  },
  {
   "cell_type": "code",
   "execution_count": 5,
   "id": "ef383d28",
   "metadata": {},
   "outputs": [
    {
     "data": {
      "text/plain": [
       "['1',\n",
       " '2',\n",
       " 'Fizz',\n",
       " '4',\n",
       " 'Buzz',\n",
       " 'Fizz',\n",
       " '7',\n",
       " '8',\n",
       " 'Fizz',\n",
       " 'Buzz',\n",
       " '11',\n",
       " 'Fizz',\n",
       " '13',\n",
       " '14',\n",
       " 'FizzBuzz']"
      ]
     },
     "execution_count": 5,
     "metadata": {},
     "output_type": "execute_result"
    }
   ],
   "source": [
    "def fb(num):\n",
    "    return list(map(lambda x: 'FizzBuzz' if x % 5 == 0 and x % 3 == 0 else 'Fizz' if x % 3 == 0 else 'Buzz' if x % 5 == 0 else f'{x}', range(1, num+1)))\n",
    "fb(15)"
   ]
  },
  {
   "cell_type": "code",
   "execution_count": 12,
   "id": "bbf79871",
   "metadata": {},
   "outputs": [
    {
     "ename": "NameError",
     "evalue": "name 'new_words' is not defined",
     "output_type": "error",
     "traceback": [
      "\u001b[1;31m---------------------------------------------------------------------------\u001b[0m",
      "\u001b[1;31mNameError\u001b[0m                                 Traceback (most recent call last)",
      "\u001b[1;32m<ipython-input-12-8be2688c1246>\u001b[0m in \u001b[0;36m<module>\u001b[1;34m\u001b[0m\n\u001b[0;32m     11\u001b[0m \u001b[1;33m\u001b[0m\u001b[0m\n\u001b[0;32m     12\u001b[0m \u001b[1;33m\u001b[0m\u001b[0m\n\u001b[1;32m---> 13\u001b[1;33m \u001b[0mprint\u001b[0m\u001b[1;33m(\u001b[0m\u001b[0mnew_words\u001b[0m\u001b[1;33m)\u001b[0m\u001b[1;33m\u001b[0m\u001b[1;33m\u001b[0m\u001b[0m\n\u001b[0m",
      "\u001b[1;31mNameError\u001b[0m: name 'new_words' is not defined"
     ]
    }
   ],
   "source": [
    "words = ['this' , 'is', 'a', 'sentence', '.']\n",
    "\n",
    "\n",
    "def swap(lst):\n",
    "     \n",
    "#     new_words = words\n",
    "#     words[0], words[4] = words[4], words[0]\n",
    "    new_words = list(words)[-1]  \n",
    "#     return new_words[::-1]\n",
    "#     reverse = swap(['this' , 'is', 'a', 'sentence', '.'])    \n",
    "        \n",
    "        \n",
    "print(new_words)"
   ]
  }
 ],
 "metadata": {
  "kernelspec": {
   "display_name": "Python 3",
   "language": "python",
   "name": "python3"
  },
  "language_info": {
   "codemirror_mode": {
    "name": "ipython",
    "version": 3
   },
   "file_extension": ".py",
   "mimetype": "text/x-python",
   "name": "python",
   "nbconvert_exporter": "python",
   "pygments_lexer": "ipython3",
   "version": "3.8.8"
  }
 },
 "nbformat": 4,
 "nbformat_minor": 5
}
