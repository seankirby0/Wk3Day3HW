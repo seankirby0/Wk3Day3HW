{
 "cells": [
  {
   "cell_type": "markdown",
   "metadata": {},
   "source": [
    "# Classic Algorithms"
   ]
  },
  {
   "cell_type": "markdown",
   "metadata": {},
   "source": [
    "## Tasks Today:\n",
    " \n",
    "1) <b>In-Place Algorithms</b> <br>\n",
    " &nbsp;&nbsp;&nbsp;&nbsp; a) Syntax <br>\n",
    " &nbsp;&nbsp;&nbsp;&nbsp; a) Out of Place Algorithm <br>\n",
    " &nbsp;&nbsp;&nbsp;&nbsp; b) In-Class Exercise #1 <br>\n",
    "2) <b>Two Pointers</b> <br>\n",
    "3) <b>Sorting Algorithms</b> <br>\n",
    "4) <b>Merge Sort</b> <br>\n",
    " &nbsp;&nbsp;&nbsp;&nbsp; a) Video on Algorithms <br>\n",
    " &nbsp;&nbsp;&nbsp;&nbsp; b) How it Works <br>\n",
    "5) <b>Exercises</b> <br>\n",
    " &nbsp;&nbsp;&nbsp;&nbsp; a) Exercise #1 - Reverse a List in Place Using an In-Place Algorithm <br>\n",
    " &nbsp;&nbsp;&nbsp;&nbsp; b) Exercise #2 - Find Distinct Words <br>\n",
    " &nbsp;&nbsp;&nbsp;&nbsp; c) Exercise #3 - Write a program to implement a Linear Search Algorithm. <br>"
   ]
  },
  {
   "cell_type": "markdown",
   "metadata": {},
   "source": [
    "## In-Place Algorithms"
   ]
  },
  {
   "cell_type": "markdown",
   "metadata": {},
   "source": [
    "#### Syntax"
   ]
  },
  {
   "cell_type": "code",
   "execution_count": 5,
   "metadata": {},
   "outputs": [
    {
     "name": "stdout",
     "output_type": "stream",
     "text": [
      "[4, 2, 3, 1]\n"
     ]
    }
   ],
   "source": [
    "#Syntax: list_var[x], list_var[y] = list_var[y] list_var[x]\n",
    "# To reverse a list\n",
    "# aka SWAP METHOD\n",
    "\n",
    "my_list = [1, 2, 3, 4]\n",
    "\n",
    "my_list[0],  my_list[3] = my_list[3], my_list[0]\n",
    "\n",
    "print(my_list)"
   ]
  },
  {
   "cell_type": "code",
   "execution_count": 6,
   "metadata": {},
   "outputs": [
    {
     "name": "stdout",
     "output_type": "stream",
     "text": [
      "Before Swap: [20, 5, 10]\n",
      "After Swap: [10, 5, 20]\n"
     ]
    }
   ],
   "source": [
    "# Sometimes known as a swap algorithim \n",
    "def swap(alist, x, y):\n",
    "    alist[x], alist[y] = alist[y], alist[x]\n",
    "    \n",
    "my_list = [20, 5, 10]\n",
    "print(f'Before Swap: {my_list}')\n",
    "      \n",
    "swap(my_list, 0, 2) # my_list[0], my_list[2] = my_list[2], my_list[0]\n",
    "      \n",
    "print(f'After Swap: {my_list}')\n",
    "\n",
    "\n",
    "\n",
    "## THIS USES CURRENT MEMORY SPOT ###"
   ]
  },
  {
   "cell_type": "code",
   "execution_count": null,
   "metadata": {},
   "outputs": [],
   "source": []
  },
  {
   "cell_type": "markdown",
   "metadata": {},
   "source": [
    "#### Out of Place Algorithm"
   ]
  },
  {
   "cell_type": "code",
   "execution_count": 9,
   "metadata": {},
   "outputs": [
    {
     "name": "stdout",
     "output_type": "stream",
     "text": [
      "5\n"
     ]
    }
   ],
   "source": [
    "my_list = [1, 2, 3, 4, 5]\n",
    "new_list = [''] * len(my_list)\n",
    "new_list = my_list[len(my_list)-1]\n",
    "new_list = my_list[len(my_list)-1]\n",
    "new_list = my_list[len(my_list)-1]\n",
    "new_list = my_list[len(my_list)-1]\n",
    "\n",
    "print(new_list)"
   ]
  },
  {
   "cell_type": "code",
   "execution_count": 10,
   "metadata": {},
   "outputs": [
    {
     "name": "stdout",
     "output_type": "stream",
     "text": [
      "Before swap: ['a', 'b', 'c', 'd']\n",
      "After swap: ['a', 'b', 'c', 'd']\n"
     ]
    }
   ],
   "source": [
    "# Long form out of place reversal\n",
    "\n",
    "list_1 = ['a', 'b', 'c', 'd']\n",
    "\n",
    "def out_of_place_reverse(alist):\n",
    "    length = len(alist)\n",
    "    new_list = [''] * len(alist)\n",
    "    for i in range(length):\n",
    "        new_list[i] = alist[length-i-1]\n",
    "    return new_list\n",
    "\n",
    "print(f'Before swap: {list_1}')\n",
    "\n",
    "out_of_place_reverse(list_1)\n",
    "\n",
    "print(f'After swap: {list_1}')\n",
    "\n",
    "\n",
    "# THIS CREATES NEW MEMORY SPOT\n",
    "print(f'My list is {list_1} and it's id is {id(list_1)'})\n",
    "                                            \n"
   ]
  },
  {
   "cell_type": "markdown",
   "metadata": {},
   "source": [
    "#### In-Class Exercise #1 <br>\n",
    "<p>Write a function that takes in four arguments (list, index1, index2, index3), and swaps those three positions in the list passed in.</p>"
   ]
  },
  {
   "cell_type": "code",
   "execution_count": 20,
   "metadata": {},
   "outputs": [
    {
     "data": {
      "text/plain": [
       "[10, 4, 8, 5, 3, 2, 6]"
      ]
     },
     "execution_count": 20,
     "metadata": {},
     "output_type": "execute_result"
    }
   ],
   "source": [
    "l_1 = [10, 4, 3, 8, 5, 2, 6]\n",
    "\n",
    "def swap(list1, index1, index2, index3):\n",
    "    list1[index1], list1[index2],list1[index3] = list1[index3], list1[index1], list1[index2]\n",
    "    \n",
    "swap(l_1, 2, 4, 3,)\n",
    "l_1"
   ]
  },
  {
   "cell_type": "markdown",
   "metadata": {},
   "source": [
    "## Two Pointers"
   ]
  },
  {
   "cell_type": "markdown",
   "metadata": {},
   "source": [
    "#### Syntax"
   ]
  },
  {
   "cell_type": "code",
   "execution_count": null,
   "metadata": {},
   "outputs": [],
   "source": [
    "# An algorithm that will continue to swap elements until the initial list has been completely reversed\n",
    "# use two pointers to swap, also use a while loop\n",
    "# alist[left], alist[right] = alist[right], alist[left]"
   ]
  },
  {
   "cell_type": "code",
   "execution_count": 25,
   "metadata": {},
   "outputs": [
    {
     "name": "stdout",
     "output_type": "stream",
     "text": [
      "[1, 2, 3, 4, 5, 6, 7, 8, 9, 10]\n"
     ]
    },
    {
     "data": {
      "text/plain": [
       "[10, 1, 2, 3, 4, 5, 6, 7, 8, 9]"
      ]
     },
     "execution_count": 25,
     "metadata": {},
     "output_type": "execute_result"
    }
   ],
   "source": [
    "ten_list = [1, 2, 3, 4, 5, 6, 7, 8, 9, 10]\n",
    "print(ten_list)\n",
    "\n",
    "def swap_with_pointers(alist):\n",
    "    # create pointers for our list\n",
    "    left = 0  #first index of our list\n",
    "    right = len(alist) - 1   # last index of our list\n",
    "    while left < right:\n",
    "        alist[left], alist[right] = alist[right], alist[left]\n",
    "        left += 1\n",
    "        right -+ 1\n",
    "    return alist\n",
    "\n",
    "swap_with_pointers(ten_list)"
   ]
  },
  {
   "cell_type": "markdown",
   "metadata": {},
   "source": [
    "#### Video of Algorithms <br>\n",
    "<p>Watch the video about algorithms.</p>\n",
    "\n",
    "https://www.youtube.com/watch?v=Q9HjeFD62Uk\n",
    "\n",
    "https://www.youtube.com/watch?v=kPRA0W1kECg\n",
    "\n",
    "https://www.youtube.com/watch?v=ZZuD6iUe3Pc"
   ]
  },
  {
   "cell_type": "markdown",
   "metadata": {},
   "source": [
    "# Sorting Algorithms"
   ]
  },
  {
   "cell_type": "code",
   "execution_count": 27,
   "metadata": {},
   "outputs": [
    {
     "name": "stdout",
     "output_type": "stream",
     "text": [
      "[43, 97, 95, 5, 6, 51, 15, 6, 38, 43]\n"
     ]
    }
   ],
   "source": [
    "import random\n",
    "\n",
    "my_list = [random.randint(1,100) for i in range(10)]\n",
    "print(my_list)"
   ]
  },
  {
   "cell_type": "markdown",
   "metadata": {},
   "source": [
    "#### Bubble Sort\n",
    "\n",
    "Worst Case: O(n^2) Time - O(1) Space"
   ]
  },
  {
   "cell_type": "code",
   "execution_count": 43,
   "metadata": {},
   "outputs": [
    {
     "name": "stdout",
     "output_type": "stream",
     "text": [
      "[5, 6, 6, 15, 38, 43, 43, 51, 95, 97]\n",
      "[5, 6, 6, 15, 38, 43, 43, 51, 95, 97]\n",
      "[5, 6, 6, 15, 38, 43, 43, 51, 95, 97]\n",
      "[5, 6, 6, 15, 38, 43, 43, 51, 95, 97]\n",
      "[5, 6, 6, 15, 38, 43, 43, 51, 95, 97]\n",
      "[5, 6, 6, 15, 38, 43, 43, 51, 95, 97]\n",
      "[5, 6, 6, 15, 38, 43, 43, 51, 95, 97]\n",
      "[5, 6, 6, 15, 38, 43, 43, 51, 95, 97]\n",
      "[5, 6, 6, 15, 38, 43, 43, 51, 95, 97]\n",
      "[5, 6, 6, 15, 38, 43, 43, 51, 95, 97]\n",
      "[5, 6, 6, 15, 38, 43, 43, 51, 95, 97]\n"
     ]
    },
    {
     "data": {
      "text/plain": [
       "[5, 6, 6, 15, 38, 43, 43, 51, 95, 97]"
      ]
     },
     "execution_count": 43,
     "metadata": {},
     "output_type": "execute_result"
    }
   ],
   "source": [
    "def swap(alist, i, j):\n",
    "    alist[i], alist[j] = alist[j], alist[i]\n",
    "    \n",
    "    \n",
    "def bubble_sort(alist):\n",
    "    print(alist)\n",
    "    for i in range(len(alist)):\n",
    "        for j in range(len(alist)-i-1):\n",
    "            if alist[j] > alist[j+1]:\n",
    "                swap(alist, j, j+1)\n",
    "        print(alist)\n",
    "    return alist\n",
    "\n",
    "        \n",
    "        \n",
    "bubble_sort(my_list)"
   ]
  },
  {
   "cell_type": "code",
   "execution_count": 47,
   "metadata": {},
   "outputs": [
    {
     "ename": "NameError",
     "evalue": "name 'Flase' is not defined",
     "output_type": "error",
     "traceback": [
      "\u001b[1;31m---------------------------------------------------------------------------\u001b[0m",
      "\u001b[1;31mNameError\u001b[0m                                 Traceback (most recent call last)",
      "\u001b[1;32m<ipython-input-47-1f915cbee66c>\u001b[0m in \u001b[0;36m<module>\u001b[1;34m\u001b[0m\n\u001b[0;32m      9\u001b[0m     \u001b[1;32mreturn\u001b[0m \u001b[0malist\u001b[0m\u001b[1;33m\u001b[0m\u001b[1;33m\u001b[0m\u001b[0m\n\u001b[0;32m     10\u001b[0m \u001b[1;33m\u001b[0m\u001b[0m\n\u001b[1;32m---> 11\u001b[1;33m \u001b[0mbubble_sort2\u001b[0m\u001b[1;33m(\u001b[0m\u001b[1;33m[\u001b[0m\u001b[1;36m43\u001b[0m\u001b[1;33m,\u001b[0m \u001b[1;36m97\u001b[0m\u001b[1;33m,\u001b[0m \u001b[1;36m95\u001b[0m\u001b[1;33m,\u001b[0m \u001b[1;36m5\u001b[0m\u001b[1;33m,\u001b[0m \u001b[1;36m6\u001b[0m\u001b[1;33m,\u001b[0m \u001b[1;36m51\u001b[0m\u001b[1;33m,\u001b[0m \u001b[1;36m15\u001b[0m\u001b[1;33m,\u001b[0m \u001b[1;36m6\u001b[0m\u001b[1;33m,\u001b[0m \u001b[1;36m38\u001b[0m\u001b[1;33m,\u001b[0m \u001b[1;36m43\u001b[0m\u001b[1;33m]\u001b[0m\u001b[1;33m)\u001b[0m\u001b[1;33m\u001b[0m\u001b[1;33m\u001b[0m\u001b[0m\n\u001b[0m",
      "\u001b[1;32m<ipython-input-47-1f915cbee66c>\u001b[0m in \u001b[0;36mbubble_sort2\u001b[1;34m(alist)\u001b[0m\n\u001b[0;32m      1\u001b[0m \u001b[1;32mdef\u001b[0m \u001b[0mbubble_sort2\u001b[0m\u001b[1;33m(\u001b[0m\u001b[0malist\u001b[0m\u001b[1;33m)\u001b[0m\u001b[1;33m:\u001b[0m\u001b[1;33m\u001b[0m\u001b[1;33m\u001b[0m\u001b[0m\n\u001b[1;32m----> 2\u001b[1;33m     \u001b[0mis_sorted\u001b[0m \u001b[1;33m=\u001b[0m \u001b[0mFlase\u001b[0m\u001b[1;33m\u001b[0m\u001b[1;33m\u001b[0m\u001b[0m\n\u001b[0m\u001b[0;32m      3\u001b[0m     \u001b[1;32mwhile\u001b[0m \u001b[1;32mnot\u001b[0m \u001b[0mis_sorted\u001b[0m\u001b[1;33m:\u001b[0m\u001b[1;33m\u001b[0m\u001b[1;33m\u001b[0m\u001b[0m\n\u001b[0;32m      4\u001b[0m         \u001b[1;32mfor\u001b[0m \u001b[0mj\u001b[0m \u001b[1;32min\u001b[0m \u001b[0mrange\u001b[0m\u001b[1;33m(\u001b[0m\u001b[0mlen\u001b[0m\u001b[1;33m(\u001b[0m\u001b[0malist\u001b[0m\u001b[1;33m)\u001b[0m\u001b[1;33m-\u001b[0m\u001b[1;36m1\u001b[0m\u001b[1;33m)\u001b[0m\u001b[1;33m:\u001b[0m\u001b[1;33m\u001b[0m\u001b[1;33m\u001b[0m\u001b[0m\n\u001b[0;32m      5\u001b[0m             \u001b[1;32mif\u001b[0m \u001b[0malist\u001b[0m\u001b[1;33m[\u001b[0m\u001b[0mj\u001b[0m\u001b[1;33m]\u001b[0m \u001b[1;33m>\u001b[0m \u001b[0malist\u001b[0m\u001b[1;33m[\u001b[0m\u001b[0mj\u001b[0m\u001b[1;33m+\u001b[0m\u001b[1;36m1\u001b[0m\u001b[1;33m]\u001b[0m\u001b[1;33m:\u001b[0m\u001b[1;33m\u001b[0m\u001b[1;33m\u001b[0m\u001b[0m\n",
      "\u001b[1;31mNameError\u001b[0m: name 'Flase' is not defined"
     ]
    }
   ],
   "source": [
    "def bubble_sort2(alist):\n",
    "    is_sorted = Flase\n",
    "    while not is_sorted:\n",
    "        for j in range(len(alist)-1):\n",
    "            if alist[j] > alist[j+1]:\n",
    "                swap(alist, j, j+1)\n",
    "                is_sorted = False\n",
    "        print(alist)\n",
    "    return alist\n",
    "\n",
    "bubble_sort2([43, 97, 95, 5, 6, 51, 15, 6, 38, 43])"
   ]
  },
  {
   "cell_type": "markdown",
   "metadata": {},
   "source": [
    "##### Insertion Sort\n",
    "\n",
    "Worst Case: O(n^2) time - O(1)space"
   ]
  },
  {
   "cell_type": "code",
   "execution_count": 48,
   "metadata": {},
   "outputs": [
    {
     "name": "stdout",
     "output_type": "stream",
     "text": [
      "[5, 6, 6, 15, 38, 43, 43, 51, 95, 97]\n",
      "[5, 6, 6, 15, 38, 43, 43, 51, 95, 97]\n",
      "[5, 6, 6, 15, 38, 43, 43, 51, 95, 97]\n",
      "[5, 6, 6, 15, 38, 43, 43, 51, 95, 97]\n",
      "[5, 6, 6, 15, 38, 43, 43, 51, 95, 97]\n",
      "[5, 6, 6, 15, 38, 43, 43, 51, 95, 97]\n",
      "[5, 6, 6, 15, 38, 43, 43, 51, 95, 97]\n",
      "[5, 6, 6, 15, 38, 43, 43, 51, 95, 97]\n",
      "[5, 6, 6, 15, 38, 43, 43, 51, 95, 97]\n"
     ]
    },
    {
     "data": {
      "text/plain": [
       "[5, 6, 6, 15, 38, 43, 43, 51, 95, 97]"
      ]
     },
     "execution_count": 48,
     "metadata": {},
     "output_type": "execute_result"
    }
   ],
   "source": [
    "def swap(alist, i, j):\n",
    "    alist[i], alist[j] = alist[j], alist[i]\n",
    "    \n",
    "    \n",
    "def insertion_sort(alist):\n",
    "    for i in range(1, len(alist)):\n",
    "        \n",
    "        while i > 0 and alist[i] < alist[i-1]:\n",
    "            swap(alist, i, i-1)\n",
    "            i -= 1\n",
    "        print(alist)\n",
    "    return alist\n",
    "\n",
    "insertion_sort(my_list)"
   ]
  },
  {
   "cell_type": "markdown",
   "metadata": {},
   "source": [
    "## Merge Sort"
   ]
  },
  {
   "cell_type": "markdown",
   "metadata": {},
   "source": [
    "#### How it Works"
   ]
  },
  {
   "cell_type": "code",
   "execution_count": 59,
   "metadata": {},
   "outputs": [
    {
     "name": "stdout",
     "output_type": "stream",
     "text": [
      "Splitting... [37, 15, 99, 40, 91, 60, 27, 87, 93, 30]\n",
      "5\n",
      "[37, 15, 99, 40, 91]\n",
      "[60, 27, 87, 93, 30]\n",
      "Splitting... [37, 15, 99, 40, 91]\n",
      "2\n",
      "[37, 15]\n",
      "[99, 40, 91]\n",
      "Splitting... [37, 15]\n",
      "1\n",
      "[37]\n",
      "[15]\n",
      "Splitting... [37]\n",
      "Merging: [37]\n",
      "Splitting... [15]\n",
      "Merging: [15]\n",
      "Merging: [15, 37]\n",
      "Splitting... [99, 40, 91]\n",
      "1\n",
      "[99]\n",
      "[40, 91]\n",
      "Splitting... [99]\n",
      "Merging: [99]\n",
      "Splitting... [40, 91]\n",
      "1\n",
      "[40]\n",
      "[91]\n",
      "Splitting... [40]\n",
      "Merging: [40]\n",
      "Splitting... [91]\n",
      "Merging: [91]\n",
      "Merging: [40, 91]\n",
      "Merging: [40, 91, 99]\n",
      "Merging: [15, 37, 40, 91, 99]\n",
      "Splitting... [60, 27, 87, 93, 30]\n",
      "2\n",
      "[60, 27]\n",
      "[87, 93, 30]\n",
      "Splitting... [60, 27]\n",
      "1\n",
      "[60]\n",
      "[27]\n",
      "Splitting... [60]\n",
      "Merging: [60]\n",
      "Splitting... [27]\n",
      "Merging: [27]\n",
      "Merging: [27, 60]\n",
      "Splitting... [87, 93, 30]\n",
      "1\n",
      "[87]\n",
      "[93, 30]\n",
      "Splitting... [87]\n",
      "Merging: [87]\n",
      "Splitting... [93, 30]\n",
      "1\n",
      "[93]\n",
      "[30]\n",
      "Splitting... [93]\n",
      "Merging: [93]\n",
      "Splitting... [30]\n",
      "Merging: [30]\n",
      "Merging: [30, 93]\n",
      "Merging: [30, 87, 93]\n",
      "Merging: [27, 30, 60, 87, 93]\n",
      "Merging: [15, 27, 30, 37, 40, 60, 87, 91, 93, 99]\n"
     ]
    },
    {
     "data": {
      "text/plain": [
       "[15, 27, 30, 37, 40, 60, 87, 91, 93, 99]"
      ]
     },
     "execution_count": 59,
     "metadata": {},
     "output_type": "execute_result"
    }
   ],
   "source": [
    "my_list = [37, 15, 99, 40, 91, 60, 27, 87, 93, 30]\n",
    "\n",
    "# Merge Sort Step by Step\n",
    "#Step1: if list is larger than 1 element, continue splitting into halves\n",
    "#Step2: From left to right merge two groups\n",
    "# Step 3: While merging, place each item in the correct position into the merged group\n",
    "# Step 4: Continue steps 3-4 until one group is left\n",
    "\n",
    "\n",
    "def merge_sort(alist):\n",
    "    print('Splitting...', alist)\n",
    "    \n",
    "    # Step 1: Divide into halves\n",
    "    if len(alist) > 1:\n",
    "        mid = len(alist) // 2\n",
    "        print(mid)\n",
    "        lefthalf = alist[:mid]\n",
    "        print(lefthalf)\n",
    "        righthalf = alist[mid:]\n",
    "        print(righthalf)\n",
    "        \n",
    "        # recursively call mergeSort to perform splits if needed\n",
    "        merge_sort(lefthalf)\n",
    "        merge_sort(righthalf)\n",
    "        \n",
    "        #Once above function completes\n",
    "        # set index pointers for our list\n",
    "        i = 0 # pointer for left half\n",
    "        j = 0 # pointer for right half\n",
    "        k = 0 # pointer for alist (list to merge to)\n",
    "        \n",
    "        # Step 2: Compare the lefthalf and righthalf\n",
    "        while i < len(lefthalf) and j < len(righthalf):\n",
    "            if lefthalf[i] < righthalf[j]:\n",
    "                alist[k] = lefthalf[i]\n",
    "                i += 1\n",
    "            else:\n",
    "                alist[k] = righthalf[j]\n",
    "                j += 1\n",
    "            k += 1\n",
    "        while i < len(lefthalf):\n",
    "            alist[k] = lefthalf[i]\n",
    "            i += 1\n",
    "            k += 1\n",
    "        while j < len(righthalf):\n",
    "            alist[k] = righthalf[j]\n",
    "            j += 1\n",
    "            k += 1\n",
    "\n",
    "        \n",
    "        \n",
    "    print('Merging:', alist)\n",
    "    return alist\n",
    "        \n",
    "merge_sort(my_list)"
   ]
  },
  {
   "cell_type": "markdown",
   "metadata": {},
   "source": [
    "# Binary Search\n",
    "\n",
    "The Binary Search algorithm works by finding the number in the middle of a given array and comparing it to the target. Given that the array is sorted\n",
    "\n",
    "* The worst case run time for this algorithm is `O(log(n))`"
   ]
  },
  {
   "cell_type": "code",
   "execution_count": 64,
   "metadata": {},
   "outputs": [
    {
     "data": {
      "text/plain": [
       "'The index 66 is 4'"
      ]
     },
     "execution_count": 64,
     "metadata": {},
     "output_type": "execute_result"
    }
   ],
   "source": [
    "\n",
    "def binarySearch(alist, value):\n",
    "    # Set our high and low for the list\n",
    "    low = 0 # for left of list\n",
    "    high = len(alist) - 1  # for right for the list\n",
    "    while low <= high:\n",
    "        mid = (low+high) // 2\n",
    "        if value == alist[mid]:\n",
    "            return f'The index {value} is {mid}'\n",
    "        elif value < alist[mid]:\n",
    "            high = mid - 1\n",
    "        else: \n",
    "            low = mid + 1\n",
    "    return -1\n",
    "\n",
    "\n",
    "binarySearch([22,33,44,55,66,77,88,99], 66)"
   ]
  },
  {
   "cell_type": "markdown",
   "metadata": {},
   "source": [
    "# Exercises"
   ]
  },
  {
   "cell_type": "markdown",
   "metadata": {},
   "source": [
    "### Exercise #1 <br>\n",
    "<p>Reverse the list below in-place using an in-place algorithm.<br>For extra credit: Reverse the strings at the same time.</p>"
   ]
  },
  {
   "cell_type": "code",
   "execution_count": 150,
   "metadata": {},
   "outputs": [
    {
     "name": "stdout",
     "output_type": "stream",
     "text": [
      "['.', 'sentence', 'a', 'is', 'this']\n"
     ]
    }
   ],
   "source": [
    "words = ['this' , 'is', 'a', 'sentence', '.']\n",
    "\n",
    "\n",
    "def swap(lst):\n",
    "     \n",
    "#     new_words = words\n",
    "#     words[0], words[4] = words[4], words[0]\n",
    "    new_words = swap(list(words))  \n",
    "#     return new_words[::-1]\n",
    "#     reverse = swap(['this' , 'is', 'a', 'sentence', '.'])    \n",
    "        \n",
    "        \n",
    "print(new_words)\n",
    "\n"
   ]
  },
  {
   "cell_type": "code",
   "execution_count": null,
   "metadata": {},
   "outputs": [],
   "source": [
    "# my_list = [1, 2, 3, 4]\n",
    "\n",
    "# my_list[0],  my_list[3] = my_list[3], my_list[0]\n",
    "\n",
    "# print(my_list)\n",
    "\n",
    "# # Sometimes known as a swap algorithim \n",
    "# def swap(alist, x, y):\n",
    "#     alist[x], alist[y] = alist[y], alist[x]\n",
    "    \n",
    "# my_list = [20, 5, 10]\n",
    "# print(f'Before Swap: {my_list}')\n",
    "      \n",
    "# swap(my_list, 0, 2) # my_list[0], my_list[2] = my_list[2], my_list[0]\n",
    "      \n",
    "# print(f'After Swap: {my_list}')\n",
    "\n",
    "\n",
    "\n",
    "# ## THIS USES CURRENT MEMORY SPOT ###"
   ]
  },
  {
   "cell_type": "markdown",
   "metadata": {},
   "source": [
    "### Exercise #2 <br>\n",
    "<p>Create a function that counts how many distinct words are in the string below, then outputs a dictionary with the words as the key and the value as the amount of times that word appears in the string.<br>Should output:<br>{'a': 5,<br>\n",
    " 'abstract': 1,<br>\n",
    " 'an': 3,<br>\n",
    " 'array': 2, ... etc...</p>"
   ]
  },
  {
   "cell_type": "code",
   "execution_count": 153,
   "metadata": {},
   "outputs": [
    {
     "ename": "SyntaxError",
     "evalue": "invalid syntax (<ipython-input-153-392d8cdc399e>, line 6)",
     "output_type": "error",
     "traceback": [
      "\u001b[1;36m  File \u001b[1;32m\"<ipython-input-153-392d8cdc399e>\"\u001b[1;36m, line \u001b[1;32m6\u001b[0m\n\u001b[1;33m    for w in open a_text.split():\u001b[0m\n\u001b[1;37m                  ^\u001b[0m\n\u001b[1;31mSyntaxError\u001b[0m\u001b[1;31m:\u001b[0m invalid syntax\n"
     ]
    }
   ],
   "source": [
    "a_text = 'In computing, a hash table hash map is a data structure which implements an associative array abstract data type, a structure that can map keys to values. A hash table uses a hash function to compute an index into an array of buckets or slots from which the desired value can be found'\n",
    "\n",
    "def word_count():\n",
    "    count = {}\n",
    "\n",
    "    for w in open a_text.split():\n",
    "        if w in count:\n",
    "            count[w] += 1\n",
    "        else:\n",
    "            count[w] = 1\n",
    "    for word, times in count.items():\n",
    "        print ('w was found %d times' % (word, times))\n",
    "\n",
    "word_count()"
   ]
  },
  {
   "cell_type": "markdown",
   "metadata": {},
   "source": [
    "## Exercise #3\n",
    "\n",
    "Write a program to implement a Linear Search Algorithm. Also in a comment, write the Time Complexity of the following algorithm.\n",
    "\n",
    "#### Hint: Linear Searching will require searching a list for a given number. "
   ]
  },
  {
   "cell_type": "code",
   "execution_count": null,
   "metadata": {},
   "outputs": [],
   "source": []
  }
 ],
 "metadata": {
  "kernelspec": {
   "display_name": "Python 3",
   "language": "python",
   "name": "python3"
  },
  "language_info": {
   "codemirror_mode": {
    "name": "ipython",
    "version": 3
   },
   "file_extension": ".py",
   "mimetype": "text/x-python",
   "name": "python",
   "nbconvert_exporter": "python",
   "pygments_lexer": "ipython3",
   "version": "3.8.8"
  }
 },
 "nbformat": 4,
 "nbformat_minor": 2
}
